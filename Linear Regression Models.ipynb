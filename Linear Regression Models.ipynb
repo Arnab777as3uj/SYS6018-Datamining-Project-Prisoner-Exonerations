{
 "cells": [
  {
   "cell_type": "code",
   "execution_count": 1,
   "metadata": {},
   "outputs": [],
   "source": [
    "import glob\n",
    "import pandas as pd\n",
    "import matplotlib.pyplot as plt\n",
    "import numpy as np\n",
    "import seaborn as sns\n",
    "import datetime as dt\n",
    "import scipy"
   ]
  },
  {
   "cell_type": "markdown",
   "metadata": {},
   "source": [
    "## Reading Train and Test datasets"
   ]
  },
  {
   "cell_type": "code",
   "execution_count": 2,
   "metadata": {},
   "outputs": [],
   "source": [
    "train = pd.read_csv('train.csv',sep=',')"
   ]
  },
  {
   "cell_type": "code",
   "execution_count": 3,
   "metadata": {},
   "outputs": [
    {
     "data": {
      "text/plain": [
       "1710"
      ]
     },
     "execution_count": 3,
     "metadata": {},
     "output_type": "execute_result"
    }
   ],
   "source": [
    "len(train)"
   ]
  },
  {
   "cell_type": "code",
   "execution_count": 4,
   "metadata": {},
   "outputs": [
    {
     "data": {
      "text/plain": [
       "Index(['Last.Name', 'First.Name', 'Age', 'Race', 'Sex', 'State', 'County',\n",
       "       'Worst.Crime.Display', 'Occurred', 'Convicted', 'Sentence', 'DNA', 'FC',\n",
       "       'MWID', 'F.MFE', 'P.FA', 'OM', 'ILD', 'CV', 'IO', 'CIU', 'H', 'NC', 'P',\n",
       "       'F', 'CDC', 'JI', 'M', 'CSH', 'FED', 'A', 'PH', 'SBS', 'CTE'],\n",
       "      dtype='object')"
      ]
     },
     "execution_count": 4,
     "metadata": {},
     "output_type": "execute_result"
    }
   ],
   "source": [
    "train.columns"
   ]
  },
  {
   "cell_type": "code",
   "execution_count": 5,
   "metadata": {},
   "outputs": [],
   "source": [
    "test = pd.read_csv('test.csv',sep=',')"
   ]
  },
  {
   "cell_type": "code",
   "execution_count": 6,
   "metadata": {},
   "outputs": [
    {
     "data": {
      "text/plain": [
       "570"
      ]
     },
     "execution_count": 6,
     "metadata": {},
     "output_type": "execute_result"
    }
   ],
   "source": [
    "len(test)"
   ]
  },
  {
   "cell_type": "code",
   "execution_count": 7,
   "metadata": {},
   "outputs": [
    {
     "data": {
      "text/plain": [
       "Index(['Last.Name', 'First.Name', 'Age', 'Race', 'Sex', 'State', 'County',\n",
       "       'Worst.Crime.Display', 'Occurred', 'Convicted', 'Sentence', 'DNA', 'FC',\n",
       "       'MWID', 'F.MFE', 'P.FA', 'OM', 'ILD', 'CV', 'IO', 'CIU', 'H', 'NC', 'P',\n",
       "       'F', 'CDC', 'JI', 'M', 'CSH', 'FED', 'A', 'PH', 'SBS', 'CTE'],\n",
       "      dtype='object')"
      ]
     },
     "execution_count": 7,
     "metadata": {},
     "output_type": "execute_result"
    }
   ],
   "source": [
    "test.columns"
   ]
  },
  {
   "cell_type": "markdown",
   "metadata": {},
   "source": [
    "## Combining train and test for pre-processing"
   ]
  },
  {
   "cell_type": "code",
   "execution_count": 8,
   "metadata": {},
   "outputs": [],
   "source": [
    "df = None\n",
    "train['data_type'] = 'train'\n",
    "test['data_type'] = 'test'\n",
    "\n",
    "#df = pd.concat([train,test], axis=1)\n",
    "df = train\n",
    "\n",
    "df = df.append(test)"
   ]
  },
  {
   "cell_type": "code",
   "execution_count": 9,
   "metadata": {},
   "outputs": [
    {
     "data": {
      "text/html": [
       "<div>\n",
       "<style scoped>\n",
       "    .dataframe tbody tr th:only-of-type {\n",
       "        vertical-align: middle;\n",
       "    }\n",
       "\n",
       "    .dataframe tbody tr th {\n",
       "        vertical-align: top;\n",
       "    }\n",
       "\n",
       "    .dataframe thead th {\n",
       "        text-align: right;\n",
       "    }\n",
       "</style>\n",
       "<table border=\"1\" class=\"dataframe\">\n",
       "  <thead>\n",
       "    <tr style=\"text-align: right;\">\n",
       "      <th></th>\n",
       "      <th>Last.Name</th>\n",
       "      <th>First.Name</th>\n",
       "      <th>Age</th>\n",
       "      <th>Race</th>\n",
       "      <th>Sex</th>\n",
       "      <th>State</th>\n",
       "      <th>County</th>\n",
       "      <th>Worst.Crime.Display</th>\n",
       "      <th>Occurred</th>\n",
       "      <th>Convicted</th>\n",
       "      <th>...</th>\n",
       "      <th>CDC</th>\n",
       "      <th>JI</th>\n",
       "      <th>M</th>\n",
       "      <th>CSH</th>\n",
       "      <th>FED</th>\n",
       "      <th>A</th>\n",
       "      <th>PH</th>\n",
       "      <th>SBS</th>\n",
       "      <th>CTE</th>\n",
       "      <th>data_type</th>\n",
       "    </tr>\n",
       "  </thead>\n",
       "  <tbody>\n",
       "    <tr>\n",
       "      <th>0</th>\n",
       "      <td>Wosu</td>\n",
       "      <td>Joy</td>\n",
       "      <td>33</td>\n",
       "      <td>Black</td>\n",
       "      <td>Female</td>\n",
       "      <td>New York</td>\n",
       "      <td>Erie New York</td>\n",
       "      <td>Child Sex Abuse</td>\n",
       "      <td>1991</td>\n",
       "      <td>1993</td>\n",
       "      <td>...</td>\n",
       "      <td>0</td>\n",
       "      <td>0</td>\n",
       "      <td>0</td>\n",
       "      <td>0</td>\n",
       "      <td>0</td>\n",
       "      <td>0</td>\n",
       "      <td>0</td>\n",
       "      <td>0</td>\n",
       "      <td>16</td>\n",
       "      <td>train</td>\n",
       "    </tr>\n",
       "    <tr>\n",
       "      <th>1</th>\n",
       "      <td>Hays</td>\n",
       "      <td>Robert</td>\n",
       "      <td>33</td>\n",
       "      <td>White</td>\n",
       "      <td>Male</td>\n",
       "      <td>Nevada</td>\n",
       "      <td>Clark Nevada</td>\n",
       "      <td>Child Sex Abuse</td>\n",
       "      <td>1992</td>\n",
       "      <td>1993</td>\n",
       "      <td>...</td>\n",
       "      <td>0</td>\n",
       "      <td>0</td>\n",
       "      <td>0</td>\n",
       "      <td>0</td>\n",
       "      <td>0</td>\n",
       "      <td>0</td>\n",
       "      <td>0</td>\n",
       "      <td>0</td>\n",
       "      <td>14</td>\n",
       "      <td>train</td>\n",
       "    </tr>\n",
       "    <tr>\n",
       "      <th>2</th>\n",
       "      <td>Bunge</td>\n",
       "      <td>Charles</td>\n",
       "      <td>38</td>\n",
       "      <td>White</td>\n",
       "      <td>Male</td>\n",
       "      <td>New York</td>\n",
       "      <td>Kings New York</td>\n",
       "      <td>Attempt, Violent</td>\n",
       "      <td>2006</td>\n",
       "      <td>2007</td>\n",
       "      <td>...</td>\n",
       "      <td>0</td>\n",
       "      <td>0</td>\n",
       "      <td>0</td>\n",
       "      <td>0</td>\n",
       "      <td>0</td>\n",
       "      <td>0</td>\n",
       "      <td>0</td>\n",
       "      <td>0</td>\n",
       "      <td>3</td>\n",
       "      <td>train</td>\n",
       "    </tr>\n",
       "    <tr>\n",
       "      <th>3</th>\n",
       "      <td>Benitez</td>\n",
       "      <td>Ricardo</td>\n",
       "      <td>54</td>\n",
       "      <td>Hispanic</td>\n",
       "      <td>Male</td>\n",
       "      <td>New York</td>\n",
       "      <td>Queens New York</td>\n",
       "      <td>Robbery</td>\n",
       "      <td>2009</td>\n",
       "      <td>2010</td>\n",
       "      <td>...</td>\n",
       "      <td>0</td>\n",
       "      <td>0</td>\n",
       "      <td>0</td>\n",
       "      <td>0</td>\n",
       "      <td>0</td>\n",
       "      <td>0</td>\n",
       "      <td>0</td>\n",
       "      <td>0</td>\n",
       "      <td>5</td>\n",
       "      <td>train</td>\n",
       "    </tr>\n",
       "    <tr>\n",
       "      <th>4</th>\n",
       "      <td>Dixon</td>\n",
       "      <td>Bobby Ray</td>\n",
       "      <td>22</td>\n",
       "      <td>Black</td>\n",
       "      <td>Male</td>\n",
       "      <td>Mississippi</td>\n",
       "      <td>Forrest Mississippi</td>\n",
       "      <td>Murder</td>\n",
       "      <td>1979</td>\n",
       "      <td>1980</td>\n",
       "      <td>...</td>\n",
       "      <td>1</td>\n",
       "      <td>0</td>\n",
       "      <td>0</td>\n",
       "      <td>0</td>\n",
       "      <td>0</td>\n",
       "      <td>0</td>\n",
       "      <td>1</td>\n",
       "      <td>0</td>\n",
       "      <td>30</td>\n",
       "      <td>train</td>\n",
       "    </tr>\n",
       "  </tbody>\n",
       "</table>\n",
       "<p>5 rows × 35 columns</p>\n",
       "</div>"
      ],
      "text/plain": [
       "  Last.Name First.Name  Age      Race     Sex        State  \\\n",
       "0      Wosu        Joy   33     Black  Female     New York   \n",
       "1      Hays     Robert   33     White    Male       Nevada   \n",
       "2     Bunge    Charles   38     White    Male     New York   \n",
       "3   Benitez    Ricardo   54  Hispanic    Male     New York   \n",
       "4     Dixon  Bobby Ray   22     Black    Male  Mississippi   \n",
       "\n",
       "                County Worst.Crime.Display  Occurred  Convicted    ...      \\\n",
       "0        Erie New York     Child Sex Abuse      1991       1993    ...       \n",
       "1         Clark Nevada     Child Sex Abuse      1992       1993    ...       \n",
       "2       Kings New York    Attempt, Violent      2006       2007    ...       \n",
       "3      Queens New York             Robbery      2009       2010    ...       \n",
       "4  Forrest Mississippi              Murder      1979       1980    ...       \n",
       "\n",
       "  CDC  JI  M  CSH  FED  A  PH  SBS  CTE  data_type  \n",
       "0   0   0  0    0    0  0   0    0   16      train  \n",
       "1   0   0  0    0    0  0   0    0   14      train  \n",
       "2   0   0  0    0    0  0   0    0    3      train  \n",
       "3   0   0  0    0    0  0   0    0    5      train  \n",
       "4   1   0  0    0    0  0   1    0   30      train  \n",
       "\n",
       "[5 rows x 35 columns]"
      ]
     },
     "execution_count": 9,
     "metadata": {},
     "output_type": "execute_result"
    }
   ],
   "source": [
    "df.head()"
   ]
  },
  {
   "cell_type": "code",
   "execution_count": 10,
   "metadata": {},
   "outputs": [],
   "source": [
    "df.rename(columns={'Worst.Crime.Display':'WorstCrimeDisplay'}, inplace=True)"
   ]
  },
  {
   "cell_type": "markdown",
   "metadata": {},
   "source": [
    "## Checking levels of categorical variables"
   ]
  },
  {
   "cell_type": "markdown",
   "metadata": {},
   "source": [
    "### Race"
   ]
  },
  {
   "cell_type": "code",
   "execution_count": 11,
   "metadata": {},
   "outputs": [
    {
     "data": {
      "text/plain": [
       "array(['Black', 'White', 'Hispanic', 'Asian', 'Native American', 'Other'],\n",
       "      dtype=object)"
      ]
     },
     "execution_count": 11,
     "metadata": {},
     "output_type": "execute_result"
    }
   ],
   "source": [
    "df.Race.unique()"
   ]
  },
  {
   "cell_type": "markdown",
   "metadata": {},
   "source": [
    "### State"
   ]
  },
  {
   "cell_type": "markdown",
   "metadata": {},
   "source": [
    "#### Observations: Race has only 6 levels and can be easily one-hot-encoded"
   ]
  },
  {
   "cell_type": "code",
   "execution_count": 12,
   "metadata": {},
   "outputs": [
    {
     "data": {
      "text/plain": [
       "82"
      ]
     },
     "execution_count": 12,
     "metadata": {},
     "output_type": "execute_result"
    }
   ],
   "source": [
    "len(df.State.unique())"
   ]
  },
  {
   "cell_type": "markdown",
   "metadata": {},
   "source": [
    "#### Observations: Too many levels. Even with recursive feature elimination this will be a very costly variable to process. Hence considering less frequent levels into higher frequency levels"
   ]
  },
  {
   "cell_type": "code",
   "execution_count": 13,
   "metadata": {
    "scrolled": true
   },
   "outputs": [
    {
     "data": {
      "text/plain": [
       "Texas                   346\n",
       "New York                252\n",
       "Illinois                221\n",
       "California              191\n",
       "Michigan                 87\n",
       "Ohio                     65\n",
       "Pennsylvania             64\n",
       "Florida                  64\n",
       "Massachusetts            63\n",
       "North Carolina           60\n",
       "Wisconsin                54\n",
       "Louisiana                53\n",
       "Virginia                 51\n",
       "Washington               48\n",
       "Missouri                 46\n",
       "New Jersey               37\n",
       "Georgia                  35\n",
       "Oklahoma                 35\n",
       "Indiana                  35\n",
       "Alabama                  27\n",
       "Maryland                 27\n",
       "Connecticut              23\n",
       "Tennessee                21\n",
       "Arizona                  20\n",
       "Oregon                   19\n",
       "Fed-NY                   18\n",
       "Mississippi              18\n",
       "Utah                     16\n",
       "District of Columbia     16\n",
       "Iowa                     14\n",
       "                       ... \n",
       "Fed-TX                    5\n",
       "Fed-PA                    5\n",
       "North Dakota              4\n",
       "Wyoming                   4\n",
       "South Dakota              4\n",
       "Fed-DC                    4\n",
       "Fed-MO                    4\n",
       "Fed-VA                    4\n",
       "Fed-MD                    4\n",
       "Hawaii                    3\n",
       "Fed-MA                    3\n",
       "Maine                     3\n",
       "Fed-AZ                    3\n",
       "Fed-MI                    3\n",
       "Vermont                   2\n",
       "Delaware                  2\n",
       "Fed-SD                    1\n",
       "Fed-CT                    1\n",
       "Fed-AL                    1\n",
       "Fed-WA                    1\n",
       "Fed-MN                    1\n",
       "Fed-OH                    1\n",
       "Fed-NM                    1\n",
       "Fed-KY                    1\n",
       "Fed-MT                    1\n",
       "Fed-NV                    1\n",
       "Guam                      1\n",
       "New Hampshire             1\n",
       "Fed-NJ                    1\n",
       "Fed-ND                    1\n",
       "Name: State, Length: 82, dtype: int64"
      ]
     },
     "execution_count": 13,
     "metadata": {},
     "output_type": "execute_result"
    }
   ],
   "source": [
    "df.State.value_counts()"
   ]
  },
  {
   "cell_type": "markdown",
   "metadata": {},
   "source": [
    "### Combining all Federal state values into a single 'Federal' level to preserve potential policy compliance"
   ]
  },
  {
   "cell_type": "code",
   "execution_count": 14,
   "metadata": {},
   "outputs": [],
   "source": [
    "df.loc[df.State.str.startswith('Fed-', na=False),'State'] = 'Federal'"
   ]
  },
  {
   "cell_type": "code",
   "execution_count": 15,
   "metadata": {},
   "outputs": [
    {
     "data": {
      "text/plain": [
       "Series([], Name: State, dtype: object)"
      ]
     },
     "execution_count": 15,
     "metadata": {},
     "output_type": "execute_result"
    }
   ],
   "source": [
    "df.State[df.State.str.startswith('Fed-', na=False)]"
   ]
  },
  {
   "cell_type": "markdown",
   "metadata": {},
   "source": [
    "### Combining all state levels with < 47 counts into level 'Other' to keep the level count at 10"
   ]
  },
  {
   "cell_type": "code",
   "execution_count": 16,
   "metadata": {},
   "outputs": [
    {
     "data": {
      "text/html": [
       "<div>\n",
       "<style scoped>\n",
       "    .dataframe tbody tr th:only-of-type {\n",
       "        vertical-align: middle;\n",
       "    }\n",
       "\n",
       "    .dataframe tbody tr th {\n",
       "        vertical-align: top;\n",
       "    }\n",
       "\n",
       "    .dataframe thead th {\n",
       "        text-align: right;\n",
       "    }\n",
       "</style>\n",
       "<table border=\"1\" class=\"dataframe\">\n",
       "  <thead>\n",
       "    <tr style=\"text-align: right;\">\n",
       "      <th></th>\n",
       "      <th>State</th>\n",
       "      <th>Count</th>\n",
       "    </tr>\n",
       "  </thead>\n",
       "  <tbody>\n",
       "    <tr>\n",
       "      <th>0</th>\n",
       "      <td>Texas</td>\n",
       "      <td>346</td>\n",
       "    </tr>\n",
       "    <tr>\n",
       "      <th>1</th>\n",
       "      <td>New York</td>\n",
       "      <td>252</td>\n",
       "    </tr>\n",
       "    <tr>\n",
       "      <th>2</th>\n",
       "      <td>Illinois</td>\n",
       "      <td>221</td>\n",
       "    </tr>\n",
       "    <tr>\n",
       "      <th>3</th>\n",
       "      <td>California</td>\n",
       "      <td>191</td>\n",
       "    </tr>\n",
       "    <tr>\n",
       "      <th>4</th>\n",
       "      <td>Federal</td>\n",
       "      <td>109</td>\n",
       "    </tr>\n",
       "  </tbody>\n",
       "</table>\n",
       "</div>"
      ],
      "text/plain": [
       "        State  Count\n",
       "0       Texas    346\n",
       "1    New York    252\n",
       "2    Illinois    221\n",
       "3  California    191\n",
       "4     Federal    109"
      ]
     },
     "execution_count": 16,
     "metadata": {},
     "output_type": "execute_result"
    }
   ],
   "source": [
    "state_counts =  df.State.value_counts().reset_index()\n",
    "state_counts.columns=['State','Count']\n",
    "state_counts.head()"
   ]
  },
  {
   "cell_type": "code",
   "execution_count": 17,
   "metadata": {
    "scrolled": true
   },
   "outputs": [
    {
     "data": {
      "text/plain": [
       "15                Missouri\n",
       "16              New Jersey\n",
       "17                Oklahoma\n",
       "18                 Indiana\n",
       "19                 Georgia\n",
       "20                Maryland\n",
       "21                 Alabama\n",
       "22             Connecticut\n",
       "23               Tennessee\n",
       "24                 Arizona\n",
       "25                  Oregon\n",
       "26             Mississippi\n",
       "27    District of Columbia\n",
       "28                    Utah\n",
       "29               Minnesota\n",
       "30                 Montana\n",
       "31                Kentucky\n",
       "32                    Iowa\n",
       "33                  Nevada\n",
       "34           West Virginia\n",
       "35                  Kansas\n",
       "36                Nebraska\n",
       "37                  Alaska\n",
       "38                Colorado\n",
       "39                Arkansas\n",
       "40              New Mexico\n",
       "41          South Carolina\n",
       "42            Rhode Island\n",
       "43             Puerto Rico\n",
       "44                   Idaho\n",
       "45            North Dakota\n",
       "46            South Dakota\n",
       "47                 Wyoming\n",
       "48                  Hawaii\n",
       "49                   Maine\n",
       "50                 Vermont\n",
       "51                Delaware\n",
       "52           New Hampshire\n",
       "53                    Guam\n",
       "Name: State, dtype: object"
      ]
     },
     "execution_count": 17,
     "metadata": {},
     "output_type": "execute_result"
    }
   ],
   "source": [
    "state_with_less_counts = state_counts[state_counts.Count<47]['State']\n",
    "state_with_less_counts"
   ]
  },
  {
   "cell_type": "code",
   "execution_count": 18,
   "metadata": {},
   "outputs": [],
   "source": [
    "df.loc[df.State.isin(state_with_less_counts),'State'] = 'Other'"
   ]
  },
  {
   "cell_type": "code",
   "execution_count": 19,
   "metadata": {},
   "outputs": [
    {
     "data": {
      "text/plain": [
       "16"
      ]
     },
     "execution_count": 19,
     "metadata": {},
     "output_type": "execute_result"
    }
   ],
   "source": [
    "len(df.State.unique())"
   ]
  },
  {
   "cell_type": "markdown",
   "metadata": {},
   "source": [
    "#### Observations: State level count reduced to 10"
   ]
  },
  {
   "cell_type": "markdown",
   "metadata": {},
   "source": [
    "### County"
   ]
  },
  {
   "cell_type": "code",
   "execution_count": 20,
   "metadata": {},
   "outputs": [
    {
     "data": {
      "text/plain": [
       "646"
      ]
     },
     "execution_count": 20,
     "metadata": {},
     "output_type": "execute_result"
    }
   ],
   "source": [
    "len(df.County.unique())"
   ]
  },
  {
   "cell_type": "markdown",
   "metadata": {},
   "source": [
    "#### Observations: Way too many levels for even feature elimination to remove insignificant levels. Will not consider this categorical variable for linear regression model building"
   ]
  },
  {
   "cell_type": "markdown",
   "metadata": {},
   "source": [
    "### WorstCrimeDisplay"
   ]
  },
  {
   "cell_type": "code",
   "execution_count": 21,
   "metadata": {},
   "outputs": [
    {
     "data": {
      "text/plain": [
       "42"
      ]
     },
     "execution_count": 21,
     "metadata": {},
     "output_type": "execute_result"
    }
   ],
   "source": [
    "len(df.WorstCrimeDisplay.unique())"
   ]
  },
  {
   "cell_type": "markdown",
   "metadata": {},
   "source": [
    "#### Observations: Too many levels. To avoid very long feature elimination time, these levels are dropped to 5"
   ]
  },
  {
   "cell_type": "code",
   "execution_count": 22,
   "metadata": {
    "scrolled": true
   },
   "outputs": [
    {
     "data": {
      "text/plain": [
       "Murder                           887\n",
       "Sexual Assault                   320\n",
       "Child Sex Abuse                  261\n",
       "Drug Possession or Sale          254\n",
       "Robbery                          118\n",
       "Assault                           91\n",
       "Attempted Murder                  49\n",
       "Manslaughter                      45\n",
       "Weapon Possession or Sale         31\n",
       "Fraud                             31\n",
       "Arson                             22\n",
       "Sex Offender Registration         20\n",
       "Theft                             18\n",
       "Kidnapping                        15\n",
       "Conspiracy                        13\n",
       "Burglary/Unlawful Entry           12\n",
       "Other Nonviolent Felony            9\n",
       "Child Abuse                        9\n",
       "Other Violent Felony               9\n",
       "Traffic Offense                    8\n",
       "Other                              7\n",
       "Tax Evasion/Fraud                  7\n",
       "Perjury                            5\n",
       "Attempt, Violent                   4\n",
       "Immigration                        4\n",
       "Forgery                            3\n",
       "Threats                            3\n",
       "Possession of Stolen Property      3\n",
       "Official Misconduct                2\n",
       "Obstruction of Justice             2\n",
       "Bribery                            2\n",
       "Destruction of Property            2\n",
       "Accessory to Murder                2\n",
       "Solicitation                       2\n",
       "Failure to Pay Child Support       2\n",
       "Supporting Terrorism               2\n",
       "Dependent Adult Abuse              1\n",
       "Harassment                         1\n",
       "Military Justice Offense           1\n",
       "Filing a False Report              1\n",
       "Menacing                           1\n",
       "Stalking                           1\n",
       "Name: WorstCrimeDisplay, dtype: int64"
      ]
     },
     "execution_count": 22,
     "metadata": {},
     "output_type": "execute_result"
    }
   ],
   "source": [
    "df.WorstCrimeDisplay.value_counts()"
   ]
  },
  {
   "cell_type": "code",
   "execution_count": 23,
   "metadata": {},
   "outputs": [
    {
     "data": {
      "text/html": [
       "<div>\n",
       "<style scoped>\n",
       "    .dataframe tbody tr th:only-of-type {\n",
       "        vertical-align: middle;\n",
       "    }\n",
       "\n",
       "    .dataframe tbody tr th {\n",
       "        vertical-align: top;\n",
       "    }\n",
       "\n",
       "    .dataframe thead th {\n",
       "        text-align: right;\n",
       "    }\n",
       "</style>\n",
       "<table border=\"1\" class=\"dataframe\">\n",
       "  <thead>\n",
       "    <tr style=\"text-align: right;\">\n",
       "      <th></th>\n",
       "      <th>WorstCrimeDisplay</th>\n",
       "      <th>Count</th>\n",
       "    </tr>\n",
       "  </thead>\n",
       "  <tbody>\n",
       "    <tr>\n",
       "      <th>0</th>\n",
       "      <td>Murder</td>\n",
       "      <td>887</td>\n",
       "    </tr>\n",
       "    <tr>\n",
       "      <th>1</th>\n",
       "      <td>Sexual Assault</td>\n",
       "      <td>320</td>\n",
       "    </tr>\n",
       "    <tr>\n",
       "      <th>2</th>\n",
       "      <td>Child Sex Abuse</td>\n",
       "      <td>261</td>\n",
       "    </tr>\n",
       "    <tr>\n",
       "      <th>3</th>\n",
       "      <td>Drug Possession or Sale</td>\n",
       "      <td>254</td>\n",
       "    </tr>\n",
       "    <tr>\n",
       "      <th>4</th>\n",
       "      <td>Robbery</td>\n",
       "      <td>118</td>\n",
       "    </tr>\n",
       "  </tbody>\n",
       "</table>\n",
       "</div>"
      ],
      "text/plain": [
       "         WorstCrimeDisplay  Count\n",
       "0                   Murder    887\n",
       "1           Sexual Assault    320\n",
       "2          Child Sex Abuse    261\n",
       "3  Drug Possession or Sale    254\n",
       "4                  Robbery    118"
      ]
     },
     "execution_count": 23,
     "metadata": {},
     "output_type": "execute_result"
    }
   ],
   "source": [
    "WorstCrimeDisplay_counts =  df.WorstCrimeDisplay.value_counts().reset_index()\n",
    "WorstCrimeDisplay_counts.columns=['WorstCrimeDisplay','Count']\n",
    "WorstCrimeDisplay_counts.head()"
   ]
  },
  {
   "cell_type": "code",
   "execution_count": 24,
   "metadata": {},
   "outputs": [
    {
     "data": {
      "text/plain": [
       "0                     Murder\n",
       "1             Sexual Assault\n",
       "2            Child Sex Abuse\n",
       "3    Drug Possession or Sale\n",
       "4                    Robbery\n",
       "Name: WorstCrimeDisplay, dtype: object"
      ]
     },
     "execution_count": 24,
     "metadata": {},
     "output_type": "execute_result"
    }
   ],
   "source": [
    "WorstCrimeDisplay_with_high_counts = WorstCrimeDisplay_counts.head()['WorstCrimeDisplay']\n",
    "WorstCrimeDisplay_with_high_counts"
   ]
  },
  {
   "cell_type": "code",
   "execution_count": 25,
   "metadata": {},
   "outputs": [],
   "source": [
    "df.loc[~df.WorstCrimeDisplay.isin(WorstCrimeDisplay_with_high_counts),'WorstCrimeDisplay'] = 'Other'"
   ]
  },
  {
   "cell_type": "code",
   "execution_count": 26,
   "metadata": {},
   "outputs": [
    {
     "data": {
      "text/plain": [
       "6"
      ]
     },
     "execution_count": 26,
     "metadata": {},
     "output_type": "execute_result"
    }
   ],
   "source": [
    "len(df.WorstCrimeDisplay.unique())"
   ]
  },
  {
   "cell_type": "markdown",
   "metadata": {},
   "source": [
    "### Sentence"
   ]
  },
  {
   "cell_type": "code",
   "execution_count": 27,
   "metadata": {
    "scrolled": true
   },
   "outputs": [
    {
     "data": {
      "text/plain": [
       "array(['25 years', 'Life', '6 years', '22 to life', '22 to 32 years',\n",
       "       '41 to Life', '3 years and 7 months', 'Death', '18 years',\n",
       "       '5 to 10 years', 'Life without parole', '30 years', '9 to Life',\n",
       "       '48 years', '12 years', '13 years', '5 years', '25 to 75 years',\n",
       "       '20 years', '75 years', 'Not sentenced', '25 to Life', '40 years',\n",
       "       '50 years', '2 months', '16 years', '180 days', '148 years',\n",
       "       '15 years', '25 to life', '10 to life', '6 months to 5 years',\n",
       "       '8 years', '3 years and 6 months', '6 months', '7 years',\n",
       "       'Probation', '60 years', '10 years', '12 to 20 years',\n",
       "       '15 to life', '14 years', '30 to life', '22 years',\n",
       "       '12 to 16 years', '120 days', '26 years', '3 years', '5 to Life',\n",
       "       '30 to 55 years', '19 to 57 years', '90 days', '24 years',\n",
       "       '8 months', '7 to 14 years', '35 years', '50 to life',\n",
       "       '60 to 90 years', '12 to 18 years', '20 to 50 years',\n",
       "       '8 1/3 to 25 years', '3 to 6 years', '100 years', '2 to 4 years',\n",
       "       '12 to 27 years', '45 years', '9 years', '82 years', '5 to life',\n",
       "       '16 to 48 years', '55 years', '25 days', '18 to life',\n",
       "       '30 to 50 years', '20 to Life', '1 1/3 to 2 years', '45 to life',\n",
       "       '20 to 32 years', '10 days', '52 days', '10 to 15 years',\n",
       "       '25 to 50 years', '80 years', '70 years', '2 years',\n",
       "       '3 1/2 to 7 years', '1 year and 1 day', '10 months', '10 to Life',\n",
       "       '18 to 20 years', '32 to 50 years', '30 days', '55 to Life',\n",
       "       '27 years', '34 years', '76 years', '3 1/2 to 6 years',\n",
       "       '16 to 30 years', '2 years and 5 months', '16 to 37 years',\n",
       "       '4 years', '17 to 27 years', '2 years and 6 months', '47 years',\n",
       "       '18 to 22 years', '3 1/3 to 10 years', '62 1/2 to 125 years',\n",
       "       '20 to life', '78 to Life', '4 to 6 years', '10 to 25 years',\n",
       "       '6 1/2 years', '90 years', '17 years', '7 years and 6 months',\n",
       "       '10 years and 1 month', '6 years and 6 months', '1 1/2 to 4 years',\n",
       "       '14 to 50 years', '29 to life', '37 years', '3 months', '32 years',\n",
       "       '99 years', '1 year', '15 to Life', '23 years and 4 months',\n",
       "       '30 to Life', '48 to life', '32 to Life', '18 to 24 years',\n",
       "       '63 years', '36 to life', '40 to 100 years', '37 1/2 years',\n",
       "       '60 days', '20 days', '1 year and 9 months', '5 to 7 1/2 years',\n",
       "       '31 years', '29 years and 8 months', 'Bad conduct discharge',\n",
       "       '45 days', '3 to 20 years', '16 years and 11 months', '11 years',\n",
       "       '6 to 12 months', '1 year and 6 months', '4 to 12 years',\n",
       "       '9 to 40 years', '44 to 60 years', '6 to 12 years', '15 days',\n",
       "       '1 year and 3 months', '14 years and 6 months', 'Unknown',\n",
       "       '7 1/2 to 15 years', 'Community service', '1 to 15 years',\n",
       "       '12 years and 8 months', '5 to 15 years', '33 years', '62 years',\n",
       "       '150 days', '3 to 5 years', '33 to Life', '40 to life',\n",
       "       '5 to 6 3/4 years', '42 years', '33 years and 4 months',\n",
       "       '35 to Life', '10 to 30 years', '21 years', '16 to 20 years',\n",
       "       '70 to Life', '1 1/3 to 4 years', '6 3/4 to Life', '6 to 18 years',\n",
       "       '7 months', '11 to Life', '11 years and 4 months', '116 days',\n",
       "       '14 to 28 years', '74 years', '11 years and 8 months',\n",
       "       '12 1/2 to 25 years', '4 3/4 years', '4 days', '6 to 10 years',\n",
       "       '10 to 20 years', '28 years', '23 years', '65 years',\n",
       "       '7 years and 3 months', '5 to 7 years', '15 to 25 years',\n",
       "       '23 1/2 to 47 years', '1 year and 5 months', '2 days',\n",
       "       '28 to life', '10 years and 10 months', '11 to 35 years',\n",
       "       '20 to 66 years', '36 years', '40 to 60 years', '110 years',\n",
       "       '12 to 15 years', '1 year and 10 months', '20 to 30 years',\n",
       "       '1 year and 7 months', '13 to 39 years',\n",
       "       'Committed to mental hospital', '7 to 10 years',\n",
       "       '28 to 60 3/4 years', '5 years and 9 months', '1 to 3 years',\n",
       "       '23 years and 6 months', '36 to Life', '11 1/2 to 15 1/4 years',\n",
       "       '32 years and 6 months', '17 1/2 years', '37 1/2 to Life',\n",
       "       '80 to life', '110 days', '20 years and 10 months',\n",
       "       'License suspension', '6 days', '16 to Life', '21 days',\n",
       "       '58 years', '12 days', '2 years and 4 months', '9 to 18 years',\n",
       "       '25 to 40 years', '38 years', '3 years and 1 month', '39 to life',\n",
       "       '10 to 14 years', '12 1/2 to 15 3/4 years', '22 1/2 to Life',\n",
       "       '1 year and 8 months', '7 years and 8 months', '32 to 43 years',\n",
       "       '8 to 25 years', '40 to Life', '2 years and 10 months',\n",
       "       '20 years and 6 months', '18 to 44 years', '210 days',\n",
       "       '6 years and 9 months', '16 to 27 years', '27 to Life',\n",
       "       '39 to 90 years', '26 to life', '50 to Life', '9 months',\n",
       "       '4 months', '120 years', '53 to Life', 'Fine', '15 to 50 years',\n",
       "       '4 years and 6 months', '30 to 45 years', '29 years',\n",
       "       '16 years and 6 months', '1 year and 1 month', '26 to 45 years',\n",
       "       '1 year and 4 months', '6 years and 3 months', '5 months',\n",
       "       '1 1/2 to 3 years', '12 to 40 years', '21 to 28 weeks',\n",
       "       '13 to 32 years', '38 1/3 to life', 'Not Sentenced', '24 days',\n",
       "       '21 to 41 years', '35 2/3 to life', '9 to 23 years',\n",
       "       '1 1/2 to 5 years', '48 days', '33 to life',\n",
       "       '5 years and 6 months', '9 to 25 years', '1 year and 11 months',\n",
       "       '15 to 30 years', '3 to 9 years', '4 to 15 years',\n",
       "       '42 years and 8 months', '8 1/2 years', '6 years and 4 months',\n",
       "       '2 to 6 years', '3 1/2 to 10 years', '14 to 35 years',\n",
       "       '16 to 18 years', '48 years and 4 months', '17 to 32 years',\n",
       "       '50 to 100 years', '26 to Life', '15 to 35 years', '95 years',\n",
       "       '52 years', '4 years and 8 months', '72 years', '172 years',\n",
       "       '5 to 25 years', '30 to 60 years', '21 to life', '8 to 10 years',\n",
       "       '144 years', '9 days', '14 to 30 years', '85 years', '18 to Life',\n",
       "       '2 to 5 years', '243 years', '23 to Life', '20 to 40 years',\n",
       "       '18 to 42 years', '25 to 30 3/4 years', '22 to 70 years',\n",
       "       '12 to Life', '7 to life', '6 to 20 years', '1 year and 2 months',\n",
       "       '1 to 5 years', '12 to 24 years', '34 to Life',\n",
       "       '46 years and 6 months', '4 3/4 to 15 years', '12 1/2 to 20 years',\n",
       "       '13 to 26 years', '3 years and 4 months', '8 days',\n",
       "       '22 to 45 years', '37 1/2 to 75 years', '22 to 56 years',\n",
       "       '32 to life', '10 to 12 years', '19 years', '43 years',\n",
       "       '10 years and 6 months', '75 to life', '16 to life',\n",
       "       '8 to 24 years', '24 to life', '8 to 16 years', '7 to 15 years',\n",
       "       '24 1/3 to life', '98 years', '13 1/2 to 40 years',\n",
       "       '6 to 15 years', '14 to 18 years', '32 to 62 years', '69 years',\n",
       "       '40 to 80 years', '10 7/12 to 13 1/2 years', '1 month',\n",
       "       '20 to 60 years', '46 years', '49 years and 6 months',\n",
       "       '12 to 50 years', '5 years and 10 months', '10 to 22 years',\n",
       "       '6 years and 7 months', '31 days', 'life', '2 years and 2 months',\n",
       "       '60 to 100 years'], dtype=object)"
      ]
     },
     "execution_count": 27,
     "metadata": {},
     "output_type": "execute_result"
    }
   ],
   "source": [
    "df.Sentence.unique()"
   ]
  },
  {
   "cell_type": "code",
   "execution_count": 28,
   "metadata": {},
   "outputs": [
    {
     "data": {
      "text/plain": [
       "370"
      ]
     },
     "execution_count": 28,
     "metadata": {},
     "output_type": "execute_result"
    }
   ],
   "source": [
    "len(df.Sentence.unique())"
   ]
  },
  {
   "cell_type": "code",
   "execution_count": 29,
   "metadata": {},
   "outputs": [
    {
     "data": {
      "text/plain": [
       "(2280, 35)"
      ]
     },
     "execution_count": 29,
     "metadata": {},
     "output_type": "execute_result"
    }
   ],
   "source": [
    "df.shape"
   ]
  },
  {
   "cell_type": "markdown",
   "metadata": {},
   "source": [
    "#### Observations: Too many levels. And it is very hard to logically convert the observed values to numericals. Hence converting levels with less # of observations into 'Other' level"
   ]
  },
  {
   "cell_type": "code",
   "execution_count": 30,
   "metadata": {
    "scrolled": true
   },
   "outputs": [
    {
     "data": {
      "text/plain": [
       "Life                      389\n",
       "Life without parole       130\n",
       "Death                     120\n",
       "Not sentenced             106\n",
       "Probation                  98\n",
       "20 years                   48\n",
       "25 to life                 47\n",
       "10 years                   45\n",
       "30 years                   39\n",
       "15 years                   38\n",
       "25 years                   37\n",
       "5 years                    36\n",
       "25 to Life                 33\n",
       "6 months                   31\n",
       "40 years                   30\n",
       "50 years                   30\n",
       "12 years                   30\n",
       "2 years                    29\n",
       "60 years                   27\n",
       "3 years                    25\n",
       "35 years                   23\n",
       "4 years                    20\n",
       "7 years                    19\n",
       "30 days                    19\n",
       "15 to Life                 18\n",
       "45 years                   18\n",
       "8 years                    17\n",
       "55 years                   16\n",
       "20 to Life                 16\n",
       "6 years                    16\n",
       "                         ... \n",
       "17 1/2 years                1\n",
       "12 to 15 years              1\n",
       "14 to 35 years              1\n",
       "5 to 7 1/2 years            1\n",
       "98 years                    1\n",
       "6 to 10 years               1\n",
       "16 to Life                  1\n",
       "48 years and 4 months       1\n",
       "33 to life                  1\n",
       "7 to life                   1\n",
       "2 to 5 years                1\n",
       "45 to life                  1\n",
       "1 to 3 years                1\n",
       "39 to life                  1\n",
       "19 to 57 years              1\n",
       "11 years and 4 months       1\n",
       "40 to 100 years             1\n",
       "6 years and 7 months        1\n",
       "4 years and 8 months        1\n",
       "4 to 15 years               1\n",
       "8 to 25 years               1\n",
       "18 to 22 years              1\n",
       "30 to 55 years              1\n",
       "24 1/3 to life              1\n",
       "11 1/2 to 15 1/4 years      1\n",
       "9 days                      1\n",
       "9 to Life                   1\n",
       "12 1/2 to 15 3/4 years      1\n",
       "40 to 60 years              1\n",
       "16 to 18 years              1\n",
       "Name: Sentence, Length: 370, dtype: int64"
      ]
     },
     "execution_count": 30,
     "metadata": {},
     "output_type": "execute_result"
    }
   ],
   "source": [
    "df.Sentence.value_counts()"
   ]
  },
  {
   "cell_type": "markdown",
   "metadata": {},
   "source": [
    "### Reading Sentence levels with highest counts"
   ]
  },
  {
   "cell_type": "code",
   "execution_count": 31,
   "metadata": {},
   "outputs": [
    {
     "data": {
      "text/plain": [
       "0                   Life\n",
       "1    Life without parole\n",
       "2                  Death\n",
       "3          Not sentenced\n",
       "4              Probation\n",
       "Name: Sentence, dtype: object"
      ]
     },
     "execution_count": 31,
     "metadata": {},
     "output_type": "execute_result"
    }
   ],
   "source": [
    "sentence_counts = df.Sentence.value_counts().reset_index()\n",
    "sentence_counts.columns = ['Sentence','Count']\n",
    "sentences_with_high_counts = sentence_counts.head()['Sentence']\n",
    "sentences_with_high_counts"
   ]
  },
  {
   "cell_type": "markdown",
   "metadata": {},
   "source": [
    "### Updating Sentence levels with less counts to level 'Other'"
   ]
  },
  {
   "cell_type": "code",
   "execution_count": 32,
   "metadata": {},
   "outputs": [],
   "source": [
    "df.loc[~df.Sentence.isin(sentences_with_high_counts),'Sentence'] = 'Other'"
   ]
  },
  {
   "cell_type": "code",
   "execution_count": 33,
   "metadata": {},
   "outputs": [
    {
     "data": {
      "text/plain": [
       "6"
      ]
     },
     "execution_count": 33,
     "metadata": {},
     "output_type": "execute_result"
    }
   ],
   "source": [
    "len(df.Sentence.unique())"
   ]
  },
  {
   "cell_type": "markdown",
   "metadata": {},
   "source": [
    "### Occured and Convicted"
   ]
  },
  {
   "cell_type": "markdown",
   "metadata": {},
   "source": [
    "#### Though these two variables are ordinal, for the sake of this analysis they are considered as numeric to avoid costly feature elimination times"
   ]
  },
  {
   "cell_type": "markdown",
   "metadata": {},
   "source": [
    "## One-hot-encoding"
   ]
  },
  {
   "cell_type": "markdown",
   "metadata": {},
   "source": [
    "#### Dropping 'Sentence' feature as feature elimination is facing memory constraints. Assumption here is that 'Sentence' which is an independent outcome that has no impact on Exoneration process as much as other features."
   ]
  },
  {
   "cell_type": "code",
   "execution_count": 34,
   "metadata": {},
   "outputs": [],
   "source": [
    "categorical_features = ['Race', 'Sex', 'State', 'WorstCrimeDisplay']"
   ]
  },
  {
   "cell_type": "markdown",
   "metadata": {},
   "source": [
    "#### dummy coding all categorical variables considered for modeling"
   ]
  },
  {
   "cell_type": "code",
   "execution_count": 35,
   "metadata": {},
   "outputs": [],
   "source": [
    "for cf in categorical_features:\n",
    "    d = pd.get_dummies(df[cf], prefix=cf,prefix_sep='_')\n",
    "    df = df.drop(cf,axis=1)\n",
    "    df = df.join(d)"
   ]
  },
  {
   "cell_type": "code",
   "execution_count": 36,
   "metadata": {},
   "outputs": [
    {
     "data": {
      "text/plain": [
       "Index(['Last.Name', 'First.Name', 'Age', 'County', 'Occurred', 'Convicted',\n",
       "       'Sentence', 'DNA', 'FC', 'MWID', 'F.MFE', 'P.FA', 'OM', 'ILD', 'CV',\n",
       "       'IO', 'CIU', 'H', 'NC', 'P', 'F', 'CDC', 'JI', 'M', 'CSH', 'FED', 'A',\n",
       "       'PH', 'SBS', 'CTE', 'data_type', 'Race_Asian', 'Race_Black',\n",
       "       'Race_Hispanic', 'Race_Native American', 'Race_Other', 'Race_White',\n",
       "       'Sex_Female', 'Sex_Male', 'State_California', 'State_Federal',\n",
       "       'State_Florida', 'State_Illinois', 'State_Louisiana',\n",
       "       'State_Massachusetts', 'State_Michigan', 'State_New York',\n",
       "       'State_North Carolina', 'State_Ohio', 'State_Other',\n",
       "       'State_Pennsylvania', 'State_Texas', 'State_Virginia',\n",
       "       'State_Washington', 'State_Wisconsin',\n",
       "       'WorstCrimeDisplay_Child Sex Abuse',\n",
       "       'WorstCrimeDisplay_Drug Possession or Sale', 'WorstCrimeDisplay_Murder',\n",
       "       'WorstCrimeDisplay_Other', 'WorstCrimeDisplay_Robbery',\n",
       "       'WorstCrimeDisplay_Sexual Assault'],\n",
       "      dtype='object')"
      ]
     },
     "execution_count": 36,
     "metadata": {},
     "output_type": "execute_result"
    }
   ],
   "source": [
    "df.columns"
   ]
  },
  {
   "cell_type": "markdown",
   "metadata": {},
   "source": [
    "### Defining regression_features - features to be used in feature elimination and model building"
   ]
  },
  {
   "cell_type": "markdown",
   "metadata": {},
   "source": [
    "#### Dropping 'Sentence' feature as feature elimination is facing memory constraints. Assumption here is that 'Sentence' which is an independent outcome that has no impact on Exoneration process as much as other features."
   ]
  },
  {
   "cell_type": "code",
   "execution_count": 37,
   "metadata": {},
   "outputs": [],
   "source": [
    "regression_features = ['Age', 'Occurred', 'Convicted', 'DNA', 'FC', 'MWID', 'F.MFE', 'P.FA', 'OM', 'ILD', 'CV',\n",
    "       'IO', 'CIU', 'H', 'NC', 'P', 'F', 'CDC', 'JI', 'M', 'CSH', 'FED', 'A',\n",
    "       'PH', 'SBS', 'Race_Asian', 'Race_Black',\n",
    "       'Race_Hispanic', 'Race_Native American', 'Race_Other', 'Race_White',\n",
    "       'Sex_Female', 'Sex_Male', 'State_California', 'State_Federal',\n",
    "       'State_Florida', 'State_Illinois', 'State_Louisiana',\n",
    "       'State_Massachusetts', 'State_Michigan', 'State_New York',\n",
    "       'State_North Carolina', 'State_Ohio', 'State_Other',\n",
    "       'State_Pennsylvania', 'State_Texas', 'State_Virginia',\n",
    "       'State_Washington', 'State_Wisconsin',\n",
    "       'WorstCrimeDisplay_Child Sex Abuse',\n",
    "       'WorstCrimeDisplay_Drug Possession or Sale', 'WorstCrimeDisplay_Murder',\n",
    "       'WorstCrimeDisplay_Other', 'WorstCrimeDisplay_Robbery',\n",
    "       'WorstCrimeDisplay_Sexual Assault']"
   ]
  },
  {
   "cell_type": "markdown",
   "metadata": {},
   "source": [
    "### Splitting processed data into train and test sets"
   ]
  },
  {
   "cell_type": "code",
   "execution_count": 38,
   "metadata": {},
   "outputs": [],
   "source": [
    "# train = df[df.data_type=='train']\n",
    "# test = df[df.data_type=='test']"
   ]
  },
  {
   "cell_type": "markdown",
   "metadata": {},
   "source": [
    "## Linear Regression"
   ]
  },
  {
   "cell_type": "code",
   "execution_count": 39,
   "metadata": {},
   "outputs": [],
   "source": [
    "from sklearn.feature_selection import RFE\n",
    "from sklearn.linear_model import LinearRegression\n",
    "from sklearn.metrics import mean_squared_error\n",
    "from sklearn.model_selection import cross_validate"
   ]
  },
  {
   "cell_type": "markdown",
   "metadata": {},
   "source": [
    "## Helper Functions"
   ]
  },
  {
   "cell_type": "markdown",
   "metadata": {},
   "source": [
    "#### Runs a k-fold CV on passed datasets"
   ]
  },
  {
   "cell_type": "code",
   "execution_count": 40,
   "metadata": {},
   "outputs": [],
   "source": [
    "def run_cv(lm, X, y, k):\n",
    "    return cross_validate(lm, X, y, cv=k,return_train_score=True,return_estimator=True)"
   ]
  },
  {
   "cell_type": "markdown",
   "metadata": {},
   "source": [
    "#### Executes Linear Regression CV and prints best estimator MSE"
   ]
  },
  {
   "cell_type": "code",
   "execution_count": 41,
   "metadata": {},
   "outputs": [],
   "source": [
    "def execute_lm_cv(X, y, k):\n",
    "    cv_results =  run_cv(LinearRegression(), X, y, k)\n",
    "    print('Train R2:')\n",
    "    print(cv_results['train_score'])\n",
    "    print('\\nTest R2:')\n",
    "    print(cv_results['test_score'])\n",
    "    print('\\nBest estimator index based on Train R2:')\n",
    "    i = list(cv_results['train_score']).index(max(cv_results['train_score']))\n",
    "    print(i)\n",
    "    print('\\nMSE: {0}'.format(mean_squared_error(y, cv_results['estimator'][i].predict(X))))"
   ]
  },
  {
   "cell_type": "markdown",
   "metadata": {},
   "source": [
    "### RUN 1 - 2 fold CV on all features - to accommodate for memory constraints"
   ]
  },
  {
   "cell_type": "code",
   "execution_count": 42,
   "metadata": {},
   "outputs": [],
   "source": [
    "cv_results =  run_cv(LinearRegression(), df[regression_features], df.CTE, 2)"
   ]
  },
  {
   "cell_type": "code",
   "execution_count": 43,
   "metadata": {},
   "outputs": [
    {
     "data": {
      "text/plain": [
       "array([0.59710605, 0.62112091])"
      ]
     },
     "execution_count": 43,
     "metadata": {},
     "output_type": "execute_result"
    }
   ],
   "source": [
    "cv_results['test_score']"
   ]
  },
  {
   "cell_type": "code",
   "execution_count": 44,
   "metadata": {},
   "outputs": [
    {
     "data": {
      "text/plain": [
       "array([0.67395126, 0.64780715])"
      ]
     },
     "execution_count": 44,
     "metadata": {},
     "output_type": "execute_result"
    }
   ],
   "source": [
    "cv_results['train_score']"
   ]
  },
  {
   "cell_type": "code",
   "execution_count": 45,
   "metadata": {},
   "outputs": [
    {
     "data": {
      "text/plain": [
       "0"
      ]
     },
     "execution_count": 45,
     "metadata": {},
     "output_type": "execute_result"
    }
   ],
   "source": [
    "list(cv_results['train_score']).index(max(cv_results['train_score']))"
   ]
  },
  {
   "cell_type": "markdown",
   "metadata": {},
   "source": [
    "### RUN 2 - k-fold CV - k=2"
   ]
  },
  {
   "cell_type": "markdown",
   "metadata": {},
   "source": [
    "#### Removing WorstCrimeDisplay features"
   ]
  },
  {
   "cell_type": "code",
   "execution_count": 46,
   "metadata": {
    "scrolled": true
   },
   "outputs": [
    {
     "data": {
      "text/plain": [
       "['Age',\n",
       " 'Occurred',\n",
       " 'Convicted',\n",
       " 'DNA',\n",
       " 'FC',\n",
       " 'MWID',\n",
       " 'F.MFE',\n",
       " 'P.FA',\n",
       " 'OM',\n",
       " 'ILD',\n",
       " 'CV',\n",
       " 'IO',\n",
       " 'CIU',\n",
       " 'H',\n",
       " 'NC',\n",
       " 'P',\n",
       " 'F',\n",
       " 'CDC',\n",
       " 'JI',\n",
       " 'M',\n",
       " 'CSH',\n",
       " 'FED',\n",
       " 'A',\n",
       " 'PH',\n",
       " 'SBS',\n",
       " 'Race_Asian',\n",
       " 'Race_Black',\n",
       " 'Race_Hispanic',\n",
       " 'Race_Native American',\n",
       " 'Race_Other',\n",
       " 'Race_White',\n",
       " 'Sex_Female',\n",
       " 'Sex_Male']"
      ]
     },
     "execution_count": 46,
     "metadata": {},
     "output_type": "execute_result"
    }
   ],
   "source": [
    "regression_features_2 = [x for x in regression_features if ((x.startswith('WorstCrimeDisplay') == False) & (x.startswith('State') == False))]\n",
    "regression_features_2"
   ]
  },
  {
   "cell_type": "code",
   "execution_count": 47,
   "metadata": {},
   "outputs": [
    {
     "name": "stdout",
     "output_type": "stream",
     "text": [
      "Train R2:\n",
      "[0.66174408 0.63951055]\n",
      "\n",
      "Test R2:\n",
      "[0.60127116 0.61952884]\n",
      "\n",
      "Best estimator index based on Train R2:\n",
      "0\n",
      "\n",
      "MSE: 30.834174919743845\n"
     ]
    }
   ],
   "source": [
    "execute_lm_cv(df[regression_features_2],df.CTE,2)"
   ]
  },
  {
   "cell_type": "markdown",
   "metadata": {},
   "source": [
    "#### Removing Race features also"
   ]
  },
  {
   "cell_type": "code",
   "execution_count": 55,
   "metadata": {
    "scrolled": true
   },
   "outputs": [
    {
     "data": {
      "text/plain": [
       "['Age',\n",
       " 'Occurred',\n",
       " 'Convicted',\n",
       " 'DNA',\n",
       " 'FC',\n",
       " 'MWID',\n",
       " 'F.MFE',\n",
       " 'P.FA',\n",
       " 'OM',\n",
       " 'ILD',\n",
       " 'CV',\n",
       " 'IO',\n",
       " 'CIU',\n",
       " 'H',\n",
       " 'NC',\n",
       " 'P',\n",
       " 'F',\n",
       " 'CDC',\n",
       " 'JI',\n",
       " 'M',\n",
       " 'CSH',\n",
       " 'FED',\n",
       " 'A',\n",
       " 'PH',\n",
       " 'SBS',\n",
       " 'Sex_Female',\n",
       " 'Sex_Male']"
      ]
     },
     "execution_count": 55,
     "metadata": {},
     "output_type": "execute_result"
    }
   ],
   "source": [
    "regression_features_3 = [x for x in regression_features if ((x.startswith('WorstCrimeDisplay') == False) & (x.startswith('State') == False) & (x.startswith('Race') == False))]\n",
    "regression_features_3"
   ]
  },
  {
   "cell_type": "code",
   "execution_count": 56,
   "metadata": {},
   "outputs": [
    {
     "name": "stdout",
     "output_type": "stream",
     "text": [
      "Train R2:\n",
      "[0.65855348 0.63620129]\n",
      "\n",
      "Test R2:\n",
      "[0.60086945 0.62109183]\n",
      "\n",
      "Best estimator index based on Train R2:\n",
      "0\n",
      "\n",
      "MSE: 30.983626867116147\n"
     ]
    }
   ],
   "source": [
    "execute_lm_cv(df[regression_features_3],df.CTE,2)"
   ]
  }
 ],
 "metadata": {
  "kernelspec": {
   "display_name": "Python 3",
   "language": "python",
   "name": "python3"
  },
  "language_info": {
   "codemirror_mode": {
    "name": "ipython",
    "version": 3
   },
   "file_extension": ".py",
   "mimetype": "text/x-python",
   "name": "python",
   "nbconvert_exporter": "python",
   "pygments_lexer": "ipython3",
   "version": "3.6.5"
  }
 },
 "nbformat": 4,
 "nbformat_minor": 2
}
